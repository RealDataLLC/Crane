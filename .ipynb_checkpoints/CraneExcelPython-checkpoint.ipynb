{
 "cells": [
  {
   "cell_type": "code",
   "execution_count": 1,
   "metadata": {},
   "outputs": [],
   "source": [
    "import pandas as pd"
   ]
  },
  {
   "cell_type": "markdown",
   "metadata": {},
   "source": [
    "Reference Scenario"
   ]
  },
  {
   "cell_type": "code",
   "execution_count": null,
   "metadata": {},
   "outputs": [],
   "source": [
    "TAM_size# _in_Reference_Scenario_and_Solution_Scenario\n",
    "Target_Market_size_ref#\n",
    "Remaining_Market_size_ref#\n",
    "DIRECT_GHG_Intensity_of_TAM_ref# numerator is MtCO2e; denominator varies by technology\n",
    "DIRECT_GHG_Intensity_of_Remaining_Market# numerator is MtCO2e; denominator varies by technology\n",
    "Total_DIRECT_GHG_footprint_of_TAM_ref# MtCO2e\n",
    "INDIRECT_GHG_intensity_of_Target_Market_ref#numerator is MtCO2e; denominator varies by technology\n",
    "DIRECT_GHG_intensity_of_Target_Market_ref# numerator is MtCO2e; denominator varies by technology\n",
    "Total_INDIRECT_GHG_footprint_of_Target_Market_ref# MtCO2e\n",
    "Total_DIRECT_GHG_footprint_of_Target_Market_ref# MtCO2e\n",
    "Total_DIRECT_GHG_footprint_of_Remaining_Market_ref# MtCO2e\n",
    "Total_GHG_footprint_of_TAM_ref#MtCO2e"
   ]
  },
  {
   "cell_type": "markdown",
   "metadata": {},
   "source": [
    "Solution Description"
   ]
  },
  {
   "cell_type": "code",
   "execution_count": null,
   "metadata": {},
   "outputs": [],
   "source": [
    "Elasticity_of_demand_for_Tarket_Market\n",
    "Relative_Financial_FOM\n",
    "Relative_Physical_FOM\n",
    "INDIRECT_GHG_intensity_of_Solution\n",
    "DIRECT_GHG_intensity_of_Solution"
   ]
  },
  {
   "cell_type": "markdown",
   "metadata": {},
   "source": [
    "Solution Scenario"
   ]
  },
  {
   "cell_type": "code",
   "execution_count": null,
   "metadata": {},
   "outputs": [],
   "source": [
    "Market Share of Solution# as percentage (%) of Target Market\n",
    "Target_Market_size# in Solution Scenario(s)\n",
    "Remaining Market size# in Solution Scenario(s)\n",
    "Total DIRECT GHG footprint of TAM# in Solution Scenario(s)\n",
    "INDIRECT GHG intensity of Target Market#  in Solution Scenario(s)\n",
    "DIRECT GHG intensity of Target Market# in Solution Scenario(s)\n",
    "Total INDIRECT GHG footprint of Target Market# in Solution Scenario(s)\n",
    "Total DIRECT GHG footprint of Target Market# in Solution Scenario(s)\n",
    "Total DIRECT GHG footprint of Remaining Market# in Solution Scenario(s)\n",
    "Total GHG footprint of TAM# in Solution Scenario(s)\n",
    "Emissions Reduction Potentional_annually"
   ]
  }
 ],
 "metadata": {
  "kernelspec": {
   "display_name": "Python 3",
   "language": "python",
   "name": "python3"
  },
  "language_info": {
   "codemirror_mode": {
    "name": "ipython",
    "version": 3
   },
   "file_extension": ".py",
   "mimetype": "text/x-python",
   "name": "python",
   "nbconvert_exporter": "python",
   "pygments_lexer": "ipython3",
   "version": "3.6.8"
  }
 },
 "nbformat": 4,
 "nbformat_minor": 2
}
