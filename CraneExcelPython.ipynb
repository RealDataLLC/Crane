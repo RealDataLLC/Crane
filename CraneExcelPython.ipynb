{
 "cells": [
  {
   "cell_type": "code",
   "execution_count": 216,
   "metadata": {},
   "outputs": [],
   "source": [
    "import pandas as pd\n",
    "import numpy as np\n",
    "import seaborn as sns\n",
    "from random import gauss\n",
    "from random import uniform\n",
    "import matplotlib.pyplot as plt"
   ]
  },
  {
   "cell_type": "markdown",
   "metadata": {},
   "source": [
    "Reference Scenario"
   ]
  },
  {
   "cell_type": "code",
   "execution_count": 236,
   "metadata": {},
   "outputs": [
    {
     "data": {
      "image/png": "[encoded data removed]",
      "text/plain": [
       "<Figure size 432x288 with 1 Axes>"
      ]
     },
     "metadata": {
      "needs_background": "light"
     },
     "output_type": "display_data"
    }
   ],
   "source": [
    "years = [2020, 2021, 2022, 2023, 2024, 2025]\n",
    "TAM_size = [27775, 28488, 29160, 29836, 30515, 31064]\n",
    "Target_Market_size_ref = [321, 330, 366, 403, 441, 490]\n",
    "Total_DIRECT_GHG_footprint_of_TAM_ref = [13844, 13991, 14107, 14215, 14315, 14344]\n",
    "\n",
    "#The class is built on values fed in from Crane Database\n",
    "example = Report(years, TAM_size, Target_Market_size_ref, Total_DIRECT_GHG_footprint_of_TAM_ref)\n",
    "\n",
    "#We can then tune values when we call the function\n",
    "example.generate_report(Financial_FOM_mean = -.30,\n",
    "                         Financial_FOM_stv = .02,\n",
    "                         Physical_FOM_mean = .50,\n",
    "                         Physical_FOM_stv = .02,\n",
    "                         samples = 10000,\n",
    "                         distribution = 'normal')"
   ]
  },
  {
   "cell_type": "code",
   "execution_count": 234,
   "metadata": {},
   "outputs": [
    {
     "data": {
      "image/png": "[encoded data removed]",
      "text/plain": [
       "<Figure size 432x288 with 1 Axes>"
      ]
     },
     "metadata": {
      "needs_background": "light"
     },
     "output_type": "display_data"
    }
   ],
   "source": [
    "#The class is built on values fed in from Crane Database\n",
    "example = Report(years, TAM_size, Target_Market_size_ref, Total_DIRECT_GHG_footprint_of_TAM_ref)\n",
    "\n",
    "#We can then tune values when we call the function\n",
    "example.generate_report(Financial_FOM_mean = -.30,\n",
    "                         Financial_FOM_stv = .05,\n",
    "                         Physical_FOM_mean = .50,\n",
    "                         Physical_FOM_stv = .05,\n",
    "                         samples = 10000,\n",
    "                         distribution = 'normal')"
   ]
  },
  {
   "cell_type": "code",
   "execution_count": 235,
   "metadata": {},
   "outputs": [],
   "source": [
    "class Report:\n",
    "    def __init__(self, \n",
    "                 years, \n",
    "                 arr_TAM_size, \n",
    "                 arr_Target_Market_size_ref, \n",
    "                 arr_Total_DIRECT_GHG_footprint_of_TAM_ref):\n",
    "        \"\"\"\n",
    "        Dynamic researcher values, change over time\n",
    "        \"\"\"\n",
    "        self.arr_TAM_size = arr_TAM_size\n",
    "        self.arr_Target_Market_size_ref = arr_Target_Market_size_ref\n",
    "        self.arr_Total_DIRECT_GHG_footprint_of_TAM_ref = arr_Total_DIRECT_GHG_footprint_of_TAM_ref\n",
    "        \n",
    "        #assert inputs are of the same length\n",
    "        assert (len(years) == len(arr_Target_Market_size_ref) &\n",
    "                len(years) == len(arr_Total_DIRECT_GHG_footprint_of_TAM_ref) &\n",
    "                len(years) == len(arr_TAM_size))\n",
    "        \n",
    "        self.years = years\n",
    "        \n",
    "        \"\"\"\n",
    "        Constant researcher values, consistent throughout time\n",
    "        \"\"\"\n",
    "        self.INDIRECT_GHG_intensity_of_Target_Market_ref = 0.091558#numerator is MtCO2e; denominator varies by technology\n",
    "        self.Total_DIRECT_GHG_footprint_of_Target_Market_ref = 0.0  # MtCO2e\n",
    "        \n",
    "        self.Elasticity_of_demand_for_Tarket_Market = -.75#unitless\n",
    "        self.INDIRECT_GHG_intensity_of_Solution = 0.061039#numerator is MtCO2e; denominator varies by technology\n",
    "        self.DIRECT_GHG_intensity_of_Solution = 0#numerator is MtCO2e; denominator varies by technology\n",
    "        \n",
    "        self.Market_Share_of_Solution = 1.00 # as percentage (%) of Target Market\n",
    "        \n",
    "    def create_datapoint(self,\n",
    "                         TAM_size, \n",
    "                         Target_Market_size_ref, \n",
    "                         Total_DIRECT_GHG_footprint_of_TAM_ref, \n",
    "                         Financial_FOM_mean,\n",
    "                         Financial_FOM_stv,\n",
    "                         Physical_FOM_mean,\n",
    "                         Physical_FOM_stv,\n",
    "                         samples = 10000, \n",
    "                         distribution = 'normal'):\n",
    "        \n",
    "        \n",
    "        #Setting Constants\n",
    "        igiotmf = self.INDIRECT_GHG_intensity_of_Target_Market_ref\n",
    "        tdgfotmf = self.Total_DIRECT_GHG_footprint_of_Target_Market_ref\n",
    "        msos = self.Market_Share_of_Solution\n",
    "        \n",
    "        Elasticity_of_demand_for_Tarket_Market = self.Elasticity_of_demand_for_Tarket_Market#unitless\n",
    "        INDIRECT_GHG_intensity_of_Solution  = self.INDIRECT_GHG_intensity_of_Solution #numerator is MtCO2e; denominator varies by technology\n",
    "        DIRECT_GHG_intensity_of_Solution  = self.DIRECT_GHG_intensity_of_Solution #numerator is MtCO2e; denominator varies by technology\n",
    "        \n",
    "        Market_Share_of_Solution = self.Market_Share_of_Solution\n",
    "        \n",
    "        \n",
    "        \n",
    "        #Ref Scenario Calculations\n",
    "        Remaining_Market_size_ref = TAM_size - Target_Market_size_ref #\n",
    "        DIRECT_GHG_Intensity_of_TAM_ref = tdgfotmf/TAM_size# numerator is MtCO2e; denominator varies by technology\n",
    "        DIRECT_GHG_Intensity_of_Remaining_Market = (Total_DIRECT_GHG_footprint_of_TAM_ref - tdgfotmf)/Remaining_Market_size_ref# numerator is MtCO2e; denominator varies by technology\n",
    "        DIRECT_GHG_intensity_of_Target_Market_ref = Total_DIRECT_GHG_footprint_of_Target_Market_ref/Target_Market_size_ref# numerator is MtCO2e; denominator varies by technology\n",
    "        \n",
    "        Total_INDIRECT_GHG_footprint_of_Target_Market_ref = Target_Market_size_ref * igiotmf# MtCO2e\n",
    "        Total_DIRECT_GHG_footprint_of_Remaining_Market_ref = Remaining_Market_size_ref * DIRECT_GHG_Intensity_of_Remaining_Market# MtCO2e\n",
    "        Total_GHG_footprint_of_TAM_ref = Total_INDIRECT_GHG_footprint_of_Target_Market_ref + Total_DIRECT_GHG_footprint_of_Target_Market_ref + Total_DIRECT_GHG_footprint_of_Remaining_Market_ref#MtCO2e\n",
    "        ###this is the value to compare\n",
    "\n",
    "        erp_tmp = []\n",
    "\n",
    "        for i in range(samples):\n",
    "            \n",
    "           # User input values in solution description\n",
    "            \n",
    "            if distribution == 'uniform':\n",
    "                Relative_Financial_FOM = uniform(Financial_FOM_mean - Financial_FOM_stv, Financial_FOM_mean + Financial_FOM_stv) #%change\n",
    "                Relative_Physical_FOM = uniform(Physical_FOM_mean - Physical_FOM_stv, Physical_FOM_mean + Physical_FOM_stv) #%change\n",
    "            elif distribution == 'normal':\n",
    "                Relative_Financial_FOM = gauss(Financial_FOM_mean, Financial_FOM_stv) #%change\n",
    "                Relative_Physical_FOM = gauss(Physical_FOM_mean, Physical_FOM_stv) #%change\n",
    "            else:\n",
    "                print(\"not a real distribution\")\n",
    "                break\n",
    "            \n",
    "            \n",
    "            #Solution Deployed Calculations\n",
    "            \n",
    "            Target_Market_size_sol = Target_Market_size_ref * (2/(1 - (Elasticity_of_demand_for_Tarket_Market * Market_Share_of_Solution*Relative_Financial_FOM /(2 + Market_Share_of_Solution*Relative_Financial_FOM))) - 1)# in Solution Scenario(s)\n",
    "            Remaining_Market_size_sol = TAM_size - Target_Market_size_sol# in Solution Scenario(s)\n",
    "            DIRECT_GHG_intensity_of_Target_Market_sol = DIRECT_GHG_intensity_of_Target_Market_ref*(1-Market_Share_of_Solution) + DIRECT_GHG_intensity_of_Solution * Market_Share_of_Solution# in Solution Scenario(s)\n",
    "            Total_DIRECT_GHG_footprint_of_TAM_sol = Target_Market_size_sol * DIRECT_GHG_intensity_of_Target_Market_sol + Remaining_Market_size_sol * DIRECT_GHG_Intensity_of_Remaining_Market# in Solution Scenario(s)\n",
    "            INDIRECT_GHG_intensity_of_Target_Marke_sol = INDIRECT_GHG_intensity_of_Target_Market_ref * (1 - Market_Share_of_Solution) + INDIRECT_GHG_intensity_of_Solution * Market_Share_of_Solution#  in Solution Scenario(s)\n",
    "            Total_INDIRECT_GHG_footprint_of_Target_Market_sol = Target_Market_size_sol * INDIRECT_GHG_intensity_of_Target_Marke_sol# in Solution Scenario(s)\n",
    "            Total_DIRECT_GHG_footprint_of_Target_Market_sol = Target_Market_size_sol * DIRECT_GHG_intensity_of_Target_Market_sol# in Solution Scenario(s)\n",
    "            Total_DIRECT_GHG_footprint_of_Remaining_Market_sol = Remaining_Market_size_sol * DIRECT_GHG_Intensity_of_Remaining_Market# in Solution Scenario(s)\n",
    "            \n",
    "            Total_GHG_footprint_of_TAM_sol = Total_INDIRECT_GHG_footprint_of_Target_Market_sol + Total_DIRECT_GHG_footprint_of_Target_Market_sol + Total_DIRECT_GHG_footprint_of_Remaining_Market_sol# in Solution Scenario(s)\n",
    "            ###this is the value to explore\n",
    "\n",
    "\n",
    "            Emissions_Reduction_Potentional_annually = Total_GHG_footprint_of_TAM_ref  - Total_GHG_footprint_of_TAM_sol\n",
    "\n",
    "            erp_tmp.append(Emissions_Reduction_Potentional_annually)\n",
    "            \n",
    "        erp_data = np.array(erp_tmp)\n",
    "        # return lowerbound, mean, upperbound\n",
    "        return np.mean(erp_data) - np.std(erp_data), np.mean(erp_data), np.mean(erp_data) + np.std(erp_data)\n",
    "\n",
    "    def generate_report(self, \n",
    "                        Financial_FOM_mean, \n",
    "                        Financial_FOM_stv, \n",
    "                        Physical_FOM_mean,\n",
    "                        Physical_FOM_stv,\n",
    "                        samples = 10000,\n",
    "                        distribution = 'normal'):\n",
    "        \n",
    "        plot_df = pd.DataFrame()\n",
    "        \n",
    "        arr_TAM_size= self.arr_TAM_size \n",
    "        arr_Target_Market_size_ref = self.arr_Target_Market_size_ref \n",
    "        arr_Total_DIRECT_GHG_footprint_of_TAM_ref = self.arr_Total_DIRECT_GHG_footprint_of_TAM_ref \n",
    "        \n",
    "        #unit test for numbers\n",
    "        for input_index, year in enumerate(self.years):\n",
    "            # generate data point for the year\n",
    "            lower_bound, mean, upper_bound = self.create_datapoint(\n",
    "                         TAM_size = arr_TAM_size[input_index], \n",
    "                         Target_Market_size_ref = arr_Target_Market_size_ref[input_index], \n",
    "                         Total_DIRECT_GHG_footprint_of_TAM_ref = arr_Total_DIRECT_GHG_footprint_of_TAM_ref[input_index], \n",
    "                         Financial_FOM_mean = Financial_FOM_mean,\n",
    "                         Financial_FOM_stv = Financial_FOM_stv,\n",
    "                         Physical_FOM_mean = Physical_FOM_mean,\n",
    "                         Physical_FOM_stv = Physical_FOM_stv,\n",
    "                         samples = samples, \n",
    "                         distribution = distribution)\n",
    "            plot_df = plot_df.append({\"Annual ERP Reduction\": lower_bound, \"year\": year}, ignore_index=True )\n",
    "            plot_df = plot_df.append({\"Annual ERP Reduction\": mean, \"year\": year}, ignore_index=True )\n",
    "            plot_df = plot_df.append({\"Annual ERP Reduction\": upper_bound, \"year\": year}, ignore_index=True )\n",
    "\n",
    "        ax = sns.lineplot(x=\"year\", y=\"Annual ERP Reduction\", data=plot_df)\n",
    "        #ax.set_xticklabels(rotation=45)    \n",
    "        plt.xticks(self.years)\n"
   ]
  },
  {
   "cell_type": "code",
   "execution_count": 143,
   "metadata": {},
   "outputs": [
    {
     "data": {
      "text/plain": [
       "<matplotlib.axes._subplots.AxesSubplot at 0x11f76ea90>"
      ]
     },
     "execution_count": 143,
     "metadata": {},
     "output_type": "execute_result"
    },
    {
     "data": {
      "image/png": "[encoded data removed]",
      "text/plain": [
       "<Figure size 432x288 with 1 Axes>"
      ]
     },
     "metadata": {
      "needs_background": "light"
     },
     "output_type": "display_data"
    }
   ],
   "source": [
    "samples = 10000\n",
    "\"\"\"\n",
    "Crane dynamic researcher values\n",
    "\"\"\"\n",
    "TAM_size = 27775 # _in_Reference_Scenario_and_Solution_Scenario\n",
    "Target_Market_size_ref = 321  # \n",
    "Total_DIRECT_GHG_footprint_of_TAM_ref = 13844 # MtCO2e\n",
    "\n",
    "\"\"\"\n",
    "Constant researcher values\n",
    "\"\"\"\n",
    "INDIRECT_GHG_intensity_of_Target_Market_ref = 0.091558#numerator is MtCO2e; denominator varies by technology\n",
    "Total_DIRECT_GHG_footprint_of_Target_Market_ref = 0.0  # MtCO2e\n",
    "Market_Share_of_Solution = -0.75  # as percentage (%) of Target Market\n",
    "\n",
    "\"\"\"\n",
    "Ref Scenario Calculations\n",
    "\"\"\"\n",
    "Remaining_Market_size_ref = TAM_size - Target_Market_size_ref #\n",
    "DIRECT_GHG_Intensity_of_TAM_ref = Total_DIRECT_GHG_footprint_of_TAM_ref/TAM_size# numerator is MtCO2e; denominator varies by technology\n",
    "DIRECT_GHG_Intensity_of_Remaining_Market = (Total_DIRECT_GHG_footprint_of_TAM_ref - Total_DIRECT_GHG_footprint_of_Target_Market_ref)/Remaining_Market_size_ref# numerator is MtCO2e; denominator varies by technology\n",
    "DIRECT_GHG_intensity_of_Target_Market_ref = Total_DIRECT_GHG_footprint_of_Target_Market_ref/Target_Market_size_ref# numerator is MtCO2e; denominator varies by technology\n",
    "Total_INDIRECT_GHG_footprint_of_Target_Market_ref = Target_Market_size_ref * INDIRECT_GHG_intensity_of_Target_Market_ref# MtCO2e\n",
    "\n",
    "Total_DIRECT_GHG_footprint_of_Remaining_Market_ref = Remaining_Market_size_ref * DIRECT_GHG_Intensity_of_Remaining_Market# MtCO2e\n",
    "Total_GHG_footprint_of_TAM_ref = Total_INDIRECT_GHG_footprint_of_Target_Market_ref + Total_DIRECT_GHG_footprint_of_Target_Market_ref + Total_DIRECT_GHG_footprint_of_Remaining_Market_ref#MtCO2e\n",
    "###this is the value to compare\n",
    "\n",
    "tmp = []\n",
    "\n",
    "for i in range(samples):\n",
    "    \"\"\"\n",
    "    User input values in solution description\n",
    "    \"\"\"\n",
    "    Relative_Financial_FOM = gauss(-.30, .02) #%change\n",
    "    Relative_Physical_FOM = uniform(.50, .02) #%change\n",
    "\n",
    "    Elasticity_of_demand_for_Tarket_Market = -.75#unitless\n",
    "    INDIRECT_GHG_intensity_of_Solution = 0.061039#numerator is MtCO2e; denominator varies by technology\n",
    "    DIRECT_GHG_intensity_of_Solution = 0#numerator is MtCO2e; denominator varies by technology\n",
    "\n",
    "    \"\"\"\n",
    "    Solution Deployed Calculations\n",
    "    \"\"\"\n",
    "    Market_Share_of_Solution = 1.00 \n",
    "    Target_Market_size_sol = Target_Market_size_ref * (2/(1 - (Elasticity_of_demand_for_Tarket_Market * Market_Share_of_Solution*Relative_Financial_FOM /(2 + Market_Share_of_Solution*Relative_Financial_FOM))) - 1)# in Solution Scenario(s)\n",
    "    Remaining_Market_size_sol = TAM_size - Target_Market_size_sol# in Solution Scenario(s)\n",
    "\n",
    "\n",
    "    DIRECT_GHG_intensity_of_Target_Market_sol = DIRECT_GHG_intensity_of_Target_Market_ref*(1-Market_Share_of_Solution) + DIRECT_GHG_intensity_of_Solution * Market_Share_of_Solution# in Solution Scenario(s)\n",
    "\n",
    "    Total_DIRECT_GHG_footprint_of_TAM_sol = Target_Market_size_sol * DIRECT_GHG_intensity_of_Target_Market_sol + Remaining_Market_size_sol * DIRECT_GHG_Intensity_of_Remaining_Market# in Solution Scenario(s)\n",
    "\n",
    "\n",
    "    INDIRECT_GHG_intensity_of_Target_Market_sol = INDIRECT_GHG_intensity_of_Target_Market_ref * (1 - Market_Share_of_Solution) + INDIRECT_GHG_intensity_of_Solution * Market_Share_of_Solution#  in Solution Scenario(s)\n",
    "\n",
    "    Total_INDIRECT_GHG_footprint_of_Target_Market_sol = Target_Market_size_sol * INDIRECT_GHG_intensity_of_Target_Marke_sol# in Solution Scenario(s)\n",
    "\n",
    "    Total_DIRECT_GHG_footprint_of_Target_Market_sol = Target_Market_size_sol * DIRECT_GHG_intensity_of_Target_Market_sol# in Solution Scenario(s)\n",
    "\n",
    "\n",
    "    Total_DIRECT_GHG_footprint_of_Remaining_Market_sol = Remaining_Market_size_sol * DIRECT_GHG_Intensity_of_Remaining_Market# in Solution Scenario(s)\n",
    "    Total_GHG_footprint_of_TAM_sol = Total_INDIRECT_GHG_footprint_of_Target_Market_sol + Total_DIRECT_GHG_footprint_of_Target_Market_sol + Total_DIRECT_GHG_footprint_of_Remaining_Market_sol# in Solution Scenario(s)\n",
    "    ###this is the value to explore\n",
    "\n",
    "    \n",
    "    Emissions_Reduction_Potentional_annually = Total_GHG_footprint_of_TAM_ref  - Total_GHG_footprint_of_TAM_sol\n",
    "    \n",
    "    tmp.append(Emissions_Reduction_Potentional_annually)\n",
    "    \n",
    "sns.distplot(np.array(tmp))"
   ]
  },
  {
   "cell_type": "markdown",
   "metadata": {},
   "source": [
    "Intensity is per functional unit. Footprint is just straight equivalent. Fluctuate user input.  Possible to similar output from different inputs\n",
    "\n",
    "places where sensitivity is interesting\n",
    "-user inputs \n",
    "-from constants we pulled from data base\n",
    "\n",
    "Values that change over time\n",
    "\tmarket adoption value changes (rho). user inputs in yellow.\n",
    "\tbased on the 3 user inputs, leads to some range of ghg production\n",
    "\tAnything in yellow would also change, but use the values in the excel sheet."
   ]
  },
  {
   "cell_type": "markdown",
   "metadata": {},
   "source": [
    "Range of years. Time series w/ stdev. For normal +- 1 stdv\n",
    "- cummulative erp\n",
    "- annual erp\n",
    "- physical or financial or market share contributes more. Combination affects result more.\n",
    "\n"
   ]
  },
  {
   "cell_type": "markdown",
   "metadata": {},
   "source": [
    "The green stuff will be queried as data frame or series"
   ]
  }
 ],
 "metadata": {
  "kernelspec": {
   "display_name": "Python 3",
   "language": "python",
   "name": "python3"
  },
  "language_info": {
   "codemirror_mode": {
    "name": "ipython",
    "version": 3
   },
   "file_extension": ".py",
   "mimetype": "text/x-python",
   "name": "python",
   "nbconvert_exporter": "python",
   "pygments_lexer": "ipython3",
   "version": "3.6.8"
  }
 },
 "nbformat": 4,
 "nbformat_minor": 2
}
